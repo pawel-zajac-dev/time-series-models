{
 "cells": [
  {
   "cell_type": "markdown",
   "metadata": {},
   "source": [
    "# Time Series - `ARCH` model\n",
    "\n",
    "## What does `statsmodels` include?\n",
    "\n",
    "\"statsmodels\" is a comprehensive Python package for statistical modeling and econometrics, offering features such as:\n",
    "\n",
    "+ Linear regression, generalized linear models (GLM), and Bayesian regression\n",
    "\n",
    "+ Time series models: `AR`, `MA`, `ARMA`, `ARIMA`, `SARIMA`, `SARIMAX`, `VAR`, `ARCH`, `GARCH`\n",
    "\n",
    "+ Descriptive statistics and statistical hypothesis testing\n",
    "\n",
    "+ Tools for autocorrelation analysis: `ACF`, `PACF`, and stationarity tests like the `Dickey-Fuller test`\n",
    "\n",
    "# What is the `ARCH` model?\n",
    "\n",
    "## Definition:\n",
    "\n",
    "An `ARCH` **(Autoregressive Conditional Heteroskedasticity)** model is a statistical model used to capture time-varying volatility (changing variance) in time series data - especially financial returns.\n",
    "\n",
    "Unlike constant-variance models, ARCH allows the variance of the error term to change over time based on past squared residuals.\n",
    "\n",
    "ARCH is particularly useful when modeling volatility clustering, where high-volatility periods tend to follow other high-volatility periods.\n",
    "## Components:\n",
    "\n",
    "+ **Mean equation**: Describes the actual values of the time series (e.g., stock returns), typically modeled with `ARMA` or constant mean.\n",
    "\n",
    "+ **Conditional variance equation**: The variance of current errors depends on past squared errors, i.e.,\n",
    "\n",
    "$$\\sigma_t^2 = \\alpha_0 + \\alpha_1 \\cdot \\varepsilon_{t-1}^2 + \\cdots + \\alpha_q \\cdot \\varepsilon_{t-q}^2$$\n",
    "\n",
    "\n",
    "+ **Order** `(q)`: Number of lagged squared residuals (shocks) used in the conditional variance equation."
   ]
  },
  {
   "metadata": {},
   "cell_type": "markdown",
   "source": [
    "# `Index2018` data project\n",
    "## Dataset description:\n",
    "This project is based on a dataset sourced from Kaggle that provides historical daily closing values of major global stock market indices. The data is used as a foundation for applying time series analysis techniques, including VAR (Vector Autoregression) and ARCH/GARCH models.\n",
    "\n",
    "The dataset spans multiple years and contains synchronized data from five major stock indices, enabling both univariate and multivariate time series modeling.\n",
    "\n",
    "Each row represents one trading day, and the dataset includes the following columns:\n",
    "\n",
    "+ `date` (string, format: DD/MM/YYYY):\n",
    "\n",
    "+ The calendar date of the recorded index values.\n",
    "\n",
    "+ 🇺🇸 `spx` (float):\n",
    "\n",
    "+ Daily closing value of the S&P 500 index (USA).\n",
    "\n",
    "+ 🇩🇪 `dax` (float):\n",
    "\n",
    "+ Daily closing value of the DAX index (Germany).\n",
    "\n",
    "+ 🇬🇧 `ftse` (float):\n",
    "\n",
    "+ Daily closing value of the FTSE 100 index (United Kingdom).\n",
    "\n",
    "+ 🇯🇵 `nikkei` (float):\n",
    "\n",
    "+ Daily closing value of the Nikkei 225 index (Japan).\n",
    "\n",
    "## Import the libraries:"
   ]
  },
  {
   "cell_type": "code",
   "metadata": {
    "ExecuteTime": {
     "end_time": "2025-07-03T13:16:59.784763Z",
     "start_time": "2025-07-03T13:16:59.775786Z"
    }
   },
   "source": [
    "import pandas as pd\n",
    "import matplotlib.pyplot as plt\n",
    "import seaborn as sns"
   ],
   "outputs": [],
   "execution_count": 29
  },
  {
   "cell_type": "markdown",
   "metadata": {},
   "source": "## Importing the Data:"
  },
  {
   "cell_type": "code",
   "metadata": {
    "ExecuteTime": {
     "end_time": "2025-07-03T13:16:59.905503Z",
     "start_time": "2025-07-03T13:16:59.869536Z"
    }
   },
   "source": [
    "raw_csv_data = pd.read_csv(\"Index2018/Index2018.csv\")\n",
    "raw_csv_data.head()"
   ],
   "outputs": [
    {
     "data": {
      "text/plain": [
       "         date     spx      dax     ftse    nikkei\n",
       "0  07/01/1994  469.90  2224.95  3445.98  18124.01\n",
       "1  10/01/1994  475.27  2225.00  3440.58  18443.44\n",
       "2  11/01/1994  474.13  2228.10  3413.77  18485.25\n",
       "3  12/01/1994  474.17  2182.06  3372.02  18793.88\n",
       "4  13/01/1994  472.47  2142.37  3360.01  18577.26"
      ],
      "text/html": [
       "<div>\n",
       "<style scoped>\n",
       "    .dataframe tbody tr th:only-of-type {\n",
       "        vertical-align: middle;\n",
       "    }\n",
       "\n",
       "    .dataframe tbody tr th {\n",
       "        vertical-align: top;\n",
       "    }\n",
       "\n",
       "    .dataframe thead th {\n",
       "        text-align: right;\n",
       "    }\n",
       "</style>\n",
       "<table border=\"1\" class=\"dataframe\">\n",
       "  <thead>\n",
       "    <tr style=\"text-align: right;\">\n",
       "      <th></th>\n",
       "      <th>date</th>\n",
       "      <th>spx</th>\n",
       "      <th>dax</th>\n",
       "      <th>ftse</th>\n",
       "      <th>nikkei</th>\n",
       "    </tr>\n",
       "  </thead>\n",
       "  <tbody>\n",
       "    <tr>\n",
       "      <th>0</th>\n",
       "      <td>07/01/1994</td>\n",
       "      <td>469.90</td>\n",
       "      <td>2224.95</td>\n",
       "      <td>3445.98</td>\n",
       "      <td>18124.01</td>\n",
       "    </tr>\n",
       "    <tr>\n",
       "      <th>1</th>\n",
       "      <td>10/01/1994</td>\n",
       "      <td>475.27</td>\n",
       "      <td>2225.00</td>\n",
       "      <td>3440.58</td>\n",
       "      <td>18443.44</td>\n",
       "    </tr>\n",
       "    <tr>\n",
       "      <th>2</th>\n",
       "      <td>11/01/1994</td>\n",
       "      <td>474.13</td>\n",
       "      <td>2228.10</td>\n",
       "      <td>3413.77</td>\n",
       "      <td>18485.25</td>\n",
       "    </tr>\n",
       "    <tr>\n",
       "      <th>3</th>\n",
       "      <td>12/01/1994</td>\n",
       "      <td>474.17</td>\n",
       "      <td>2182.06</td>\n",
       "      <td>3372.02</td>\n",
       "      <td>18793.88</td>\n",
       "    </tr>\n",
       "    <tr>\n",
       "      <th>4</th>\n",
       "      <td>13/01/1994</td>\n",
       "      <td>472.47</td>\n",
       "      <td>2142.37</td>\n",
       "      <td>3360.01</td>\n",
       "      <td>18577.26</td>\n",
       "    </tr>\n",
       "  </tbody>\n",
       "</table>\n",
       "</div>"
      ]
     },
     "execution_count": 30,
     "metadata": {},
     "output_type": "execute_result"
    }
   ],
   "execution_count": 30
  },
  {
   "metadata": {},
   "cell_type": "markdown",
   "source": "## Preprocessing:"
  },
  {
   "metadata": {},
   "cell_type": "markdown",
   "source": "### Format to datatype:"
  },
  {
   "metadata": {
    "ExecuteTime": {
     "end_time": "2025-07-03T13:17:00.156895Z",
     "start_time": "2025-07-03T13:17:00.029236Z"
    }
   },
   "cell_type": "code",
   "source": [
    "raw_csv_data['date'] = pd.to_datetime(raw_csv_data['date'], format = '%d/%m/%Y')\n",
    "raw_csv_data.head()"
   ],
   "outputs": [
    {
     "data": {
      "text/plain": [
       "        date     spx      dax     ftse    nikkei\n",
       "0 1994-01-07  469.90  2224.95  3445.98  18124.01\n",
       "1 1994-01-10  475.27  2225.00  3440.58  18443.44\n",
       "2 1994-01-11  474.13  2228.10  3413.77  18485.25\n",
       "3 1994-01-12  474.17  2182.06  3372.02  18793.88\n",
       "4 1994-01-13  472.47  2142.37  3360.01  18577.26"
      ],
      "text/html": [
       "<div>\n",
       "<style scoped>\n",
       "    .dataframe tbody tr th:only-of-type {\n",
       "        vertical-align: middle;\n",
       "    }\n",
       "\n",
       "    .dataframe tbody tr th {\n",
       "        vertical-align: top;\n",
       "    }\n",
       "\n",
       "    .dataframe thead th {\n",
       "        text-align: right;\n",
       "    }\n",
       "</style>\n",
       "<table border=\"1\" class=\"dataframe\">\n",
       "  <thead>\n",
       "    <tr style=\"text-align: right;\">\n",
       "      <th></th>\n",
       "      <th>date</th>\n",
       "      <th>spx</th>\n",
       "      <th>dax</th>\n",
       "      <th>ftse</th>\n",
       "      <th>nikkei</th>\n",
       "    </tr>\n",
       "  </thead>\n",
       "  <tbody>\n",
       "    <tr>\n",
       "      <th>0</th>\n",
       "      <td>1994-01-07</td>\n",
       "      <td>469.90</td>\n",
       "      <td>2224.95</td>\n",
       "      <td>3445.98</td>\n",
       "      <td>18124.01</td>\n",
       "    </tr>\n",
       "    <tr>\n",
       "      <th>1</th>\n",
       "      <td>1994-01-10</td>\n",
       "      <td>475.27</td>\n",
       "      <td>2225.00</td>\n",
       "      <td>3440.58</td>\n",
       "      <td>18443.44</td>\n",
       "    </tr>\n",
       "    <tr>\n",
       "      <th>2</th>\n",
       "      <td>1994-01-11</td>\n",
       "      <td>474.13</td>\n",
       "      <td>2228.10</td>\n",
       "      <td>3413.77</td>\n",
       "      <td>18485.25</td>\n",
       "    </tr>\n",
       "    <tr>\n",
       "      <th>3</th>\n",
       "      <td>1994-01-12</td>\n",
       "      <td>474.17</td>\n",
       "      <td>2182.06</td>\n",
       "      <td>3372.02</td>\n",
       "      <td>18793.88</td>\n",
       "    </tr>\n",
       "    <tr>\n",
       "      <th>4</th>\n",
       "      <td>1994-01-13</td>\n",
       "      <td>472.47</td>\n",
       "      <td>2142.37</td>\n",
       "      <td>3360.01</td>\n",
       "      <td>18577.26</td>\n",
       "    </tr>\n",
       "  </tbody>\n",
       "</table>\n",
       "</div>"
      ]
     },
     "execution_count": 31,
     "metadata": {},
     "output_type": "execute_result"
    }
   ],
   "execution_count": 31
  },
  {
   "metadata": {},
   "cell_type": "markdown",
   "source": "### The `date` as index:"
  },
  {
   "metadata": {
    "ExecuteTime": {
     "end_time": "2025-07-03T13:17:00.386984Z",
     "start_time": "2025-07-03T13:17:00.356649Z"
    }
   },
   "cell_type": "code",
   "source": [
    "raw_csv_date = raw_csv_data.set_index('date', inplace=True)\n",
    "raw_csv_data.head()"
   ],
   "outputs": [
    {
     "data": {
      "text/plain": [
       "               spx      dax     ftse    nikkei\n",
       "date                                          \n",
       "1994-01-07  469.90  2224.95  3445.98  18124.01\n",
       "1994-01-10  475.27  2225.00  3440.58  18443.44\n",
       "1994-01-11  474.13  2228.10  3413.77  18485.25\n",
       "1994-01-12  474.17  2182.06  3372.02  18793.88\n",
       "1994-01-13  472.47  2142.37  3360.01  18577.26"
      ],
      "text/html": [
       "<div>\n",
       "<style scoped>\n",
       "    .dataframe tbody tr th:only-of-type {\n",
       "        vertical-align: middle;\n",
       "    }\n",
       "\n",
       "    .dataframe tbody tr th {\n",
       "        vertical-align: top;\n",
       "    }\n",
       "\n",
       "    .dataframe thead th {\n",
       "        text-align: right;\n",
       "    }\n",
       "</style>\n",
       "<table border=\"1\" class=\"dataframe\">\n",
       "  <thead>\n",
       "    <tr style=\"text-align: right;\">\n",
       "      <th></th>\n",
       "      <th>spx</th>\n",
       "      <th>dax</th>\n",
       "      <th>ftse</th>\n",
       "      <th>nikkei</th>\n",
       "    </tr>\n",
       "    <tr>\n",
       "      <th>date</th>\n",
       "      <th></th>\n",
       "      <th></th>\n",
       "      <th></th>\n",
       "      <th></th>\n",
       "    </tr>\n",
       "  </thead>\n",
       "  <tbody>\n",
       "    <tr>\n",
       "      <th>1994-01-07</th>\n",
       "      <td>469.90</td>\n",
       "      <td>2224.95</td>\n",
       "      <td>3445.98</td>\n",
       "      <td>18124.01</td>\n",
       "    </tr>\n",
       "    <tr>\n",
       "      <th>1994-01-10</th>\n",
       "      <td>475.27</td>\n",
       "      <td>2225.00</td>\n",
       "      <td>3440.58</td>\n",
       "      <td>18443.44</td>\n",
       "    </tr>\n",
       "    <tr>\n",
       "      <th>1994-01-11</th>\n",
       "      <td>474.13</td>\n",
       "      <td>2228.10</td>\n",
       "      <td>3413.77</td>\n",
       "      <td>18485.25</td>\n",
       "    </tr>\n",
       "    <tr>\n",
       "      <th>1994-01-12</th>\n",
       "      <td>474.17</td>\n",
       "      <td>2182.06</td>\n",
       "      <td>3372.02</td>\n",
       "      <td>18793.88</td>\n",
       "    </tr>\n",
       "    <tr>\n",
       "      <th>1994-01-13</th>\n",
       "      <td>472.47</td>\n",
       "      <td>2142.37</td>\n",
       "      <td>3360.01</td>\n",
       "      <td>18577.26</td>\n",
       "    </tr>\n",
       "  </tbody>\n",
       "</table>\n",
       "</div>"
      ]
     },
     "execution_count": 32,
     "metadata": {},
     "output_type": "execute_result"
    }
   ],
   "execution_count": 32
  },
  {
   "metadata": {
    "ExecuteTime": {
     "end_time": "2025-07-03T13:17:00.600892Z",
     "start_time": "2025-07-03T13:17:00.578640Z"
    }
   },
   "cell_type": "code",
   "source": "raw_csv_data.count()",
   "outputs": [
    {
     "data": {
      "text/plain": [
       "spx       6269\n",
       "dax       6269\n",
       "ftse      6269\n",
       "nikkei    6269\n",
       "dtype: int64"
      ]
     },
     "execution_count": 33,
     "metadata": {},
     "output_type": "execute_result"
    }
   ],
   "execution_count": 33
  },
  {
   "metadata": {},
   "cell_type": "markdown",
   "source": [
    "### The `.reindex()` operation:\n",
    "Extend the index to include all business days within the date range, inserting NaNs where data was missing (e.g., holidays, weekends).\n",
    "\n",
    "+ `.asfreq('B')` - changes the frequency, but does not add missing dates if they weren’t already in the index.\n",
    "\n",
    "+ `.reindex()` - adds missing dates and gives you full control over the index."
   ]
  },
  {
   "metadata": {
    "ExecuteTime": {
     "end_time": "2025-07-03T13:17:00.870283Z",
     "start_time": "2025-07-03T13:17:00.839440Z"
    }
   },
   "cell_type": "code",
   "source": [
    "full_range = pd.date_range(start=raw_csv_data.index.min(), end=raw_csv_data.index.max(), freq='D')\n",
    "df_comp = raw_csv_data.reindex(full_range)\n",
    "df_comp.head()"
   ],
   "outputs": [
    {
     "data": {
      "text/plain": [
       "               spx      dax     ftse    nikkei\n",
       "1994-01-07  469.90  2224.95  3445.98  18124.01\n",
       "1994-01-08     NaN      NaN      NaN       NaN\n",
       "1994-01-09     NaN      NaN      NaN       NaN\n",
       "1994-01-10  475.27  2225.00  3440.58  18443.44\n",
       "1994-01-11  474.13  2228.10  3413.77  18485.25"
      ],
      "text/html": [
       "<div>\n",
       "<style scoped>\n",
       "    .dataframe tbody tr th:only-of-type {\n",
       "        vertical-align: middle;\n",
       "    }\n",
       "\n",
       "    .dataframe tbody tr th {\n",
       "        vertical-align: top;\n",
       "    }\n",
       "\n",
       "    .dataframe thead th {\n",
       "        text-align: right;\n",
       "    }\n",
       "</style>\n",
       "<table border=\"1\" class=\"dataframe\">\n",
       "  <thead>\n",
       "    <tr style=\"text-align: right;\">\n",
       "      <th></th>\n",
       "      <th>spx</th>\n",
       "      <th>dax</th>\n",
       "      <th>ftse</th>\n",
       "      <th>nikkei</th>\n",
       "    </tr>\n",
       "  </thead>\n",
       "  <tbody>\n",
       "    <tr>\n",
       "      <th>1994-01-07</th>\n",
       "      <td>469.90</td>\n",
       "      <td>2224.95</td>\n",
       "      <td>3445.98</td>\n",
       "      <td>18124.01</td>\n",
       "    </tr>\n",
       "    <tr>\n",
       "      <th>1994-01-08</th>\n",
       "      <td>NaN</td>\n",
       "      <td>NaN</td>\n",
       "      <td>NaN</td>\n",
       "      <td>NaN</td>\n",
       "    </tr>\n",
       "    <tr>\n",
       "      <th>1994-01-09</th>\n",
       "      <td>NaN</td>\n",
       "      <td>NaN</td>\n",
       "      <td>NaN</td>\n",
       "      <td>NaN</td>\n",
       "    </tr>\n",
       "    <tr>\n",
       "      <th>1994-01-10</th>\n",
       "      <td>475.27</td>\n",
       "      <td>2225.00</td>\n",
       "      <td>3440.58</td>\n",
       "      <td>18443.44</td>\n",
       "    </tr>\n",
       "    <tr>\n",
       "      <th>1994-01-11</th>\n",
       "      <td>474.13</td>\n",
       "      <td>2228.10</td>\n",
       "      <td>3413.77</td>\n",
       "      <td>18485.25</td>\n",
       "    </tr>\n",
       "  </tbody>\n",
       "</table>\n",
       "</div>"
      ]
     },
     "execution_count": 34,
     "metadata": {},
     "output_type": "execute_result"
    }
   ],
   "execution_count": 34
  },
  {
   "metadata": {
    "ExecuteTime": {
     "end_time": "2025-07-03T13:17:01.116428Z",
     "start_time": "2025-07-03T13:17:01.105577Z"
    }
   },
   "cell_type": "code",
   "source": "df_comp.count()",
   "outputs": [
    {
     "data": {
      "text/plain": [
       "spx       6269\n",
       "dax       6269\n",
       "ftse      6269\n",
       "nikkei    6269\n",
       "dtype: int64"
      ]
     },
     "execution_count": 35,
     "metadata": {},
     "output_type": "execute_result"
    }
   ],
   "execution_count": 35
  },
  {
   "metadata": {},
   "cell_type": "markdown",
   "source": [
    "### Replace missing values:\n",
    "`.ffill()` fills missing values by propagating the last valid (non-missing) value forward along the specified axis."
   ]
  },
  {
   "metadata": {
    "ExecuteTime": {
     "end_time": "2025-07-03T13:17:01.425605Z",
     "start_time": "2025-07-03T13:17:01.407654Z"
    }
   },
   "cell_type": "code",
   "source": [
    "df_comp = df_comp.ffill()\n",
    "df_comp.head()"
   ],
   "outputs": [
    {
     "data": {
      "text/plain": [
       "               spx      dax     ftse    nikkei\n",
       "1994-01-07  469.90  2224.95  3445.98  18124.01\n",
       "1994-01-08  469.90  2224.95  3445.98  18124.01\n",
       "1994-01-09  469.90  2224.95  3445.98  18124.01\n",
       "1994-01-10  475.27  2225.00  3440.58  18443.44\n",
       "1994-01-11  474.13  2228.10  3413.77  18485.25"
      ],
      "text/html": [
       "<div>\n",
       "<style scoped>\n",
       "    .dataframe tbody tr th:only-of-type {\n",
       "        vertical-align: middle;\n",
       "    }\n",
       "\n",
       "    .dataframe tbody tr th {\n",
       "        vertical-align: top;\n",
       "    }\n",
       "\n",
       "    .dataframe thead th {\n",
       "        text-align: right;\n",
       "    }\n",
       "</style>\n",
       "<table border=\"1\" class=\"dataframe\">\n",
       "  <thead>\n",
       "    <tr style=\"text-align: right;\">\n",
       "      <th></th>\n",
       "      <th>spx</th>\n",
       "      <th>dax</th>\n",
       "      <th>ftse</th>\n",
       "      <th>nikkei</th>\n",
       "    </tr>\n",
       "  </thead>\n",
       "  <tbody>\n",
       "    <tr>\n",
       "      <th>1994-01-07</th>\n",
       "      <td>469.90</td>\n",
       "      <td>2224.95</td>\n",
       "      <td>3445.98</td>\n",
       "      <td>18124.01</td>\n",
       "    </tr>\n",
       "    <tr>\n",
       "      <th>1994-01-08</th>\n",
       "      <td>469.90</td>\n",
       "      <td>2224.95</td>\n",
       "      <td>3445.98</td>\n",
       "      <td>18124.01</td>\n",
       "    </tr>\n",
       "    <tr>\n",
       "      <th>1994-01-09</th>\n",
       "      <td>469.90</td>\n",
       "      <td>2224.95</td>\n",
       "      <td>3445.98</td>\n",
       "      <td>18124.01</td>\n",
       "    </tr>\n",
       "    <tr>\n",
       "      <th>1994-01-10</th>\n",
       "      <td>475.27</td>\n",
       "      <td>2225.00</td>\n",
       "      <td>3440.58</td>\n",
       "      <td>18443.44</td>\n",
       "    </tr>\n",
       "    <tr>\n",
       "      <th>1994-01-11</th>\n",
       "      <td>474.13</td>\n",
       "      <td>2228.10</td>\n",
       "      <td>3413.77</td>\n",
       "      <td>18485.25</td>\n",
       "    </tr>\n",
       "  </tbody>\n",
       "</table>\n",
       "</div>"
      ]
     },
     "execution_count": 36,
     "metadata": {},
     "output_type": "execute_result"
    }
   ],
   "execution_count": 36
  },
  {
   "cell_type": "code",
   "metadata": {
    "ExecuteTime": {
     "end_time": "2025-07-03T13:17:01.698125Z",
     "start_time": "2025-07-03T13:17:01.687904Z"
    }
   },
   "source": "df_comp.count()",
   "outputs": [
    {
     "data": {
      "text/plain": [
       "spx       8789\n",
       "dax       8789\n",
       "ftse      8789\n",
       "nikkei    8789\n",
       "dtype: int64"
      ]
     },
     "execution_count": 37,
     "metadata": {},
     "output_type": "execute_result"
    }
   ],
   "execution_count": 37
  },
  {
   "metadata": {},
   "cell_type": "markdown",
   "source": "## Train data & Test data split"
  },
  {
   "cell_type": "code",
   "metadata": {
    "ExecuteTime": {
     "end_time": "2025-07-03T13:17:01.990174Z",
     "start_time": "2025-07-03T13:17:01.968150Z"
    }
   },
   "source": [
    "df_comp['market_value']=df_comp['ftse']\n",
    "\n",
    "del df_comp['spx']\n",
    "del df_comp['dax']\n",
    "del df_comp['ftse']\n",
    "del df_comp['nikkei']\n",
    "\n",
    "size = int(len(df_comp)*0.8)\n",
    "df, df_test = df_comp.iloc[:size], df_comp.iloc[size:]\n",
    "\n",
    "import warnings\n",
    "warnings.filterwarnings(\"ignore\")"
   ],
   "outputs": [],
   "execution_count": 38
  },
  {
   "metadata": {
    "ExecuteTime": {
     "end_time": "2025-07-03T13:17:02.208244Z",
     "start_time": "2025-07-03T13:17:02.200871Z"
    }
   },
   "cell_type": "code",
   "source": "size",
   "outputs": [
    {
     "data": {
      "text/plain": [
       "7031"
      ]
     },
     "execution_count": 39,
     "metadata": {},
     "output_type": "execute_result"
    }
   ],
   "execution_count": 39
  },
  {
   "metadata": {
    "ExecuteTime": {
     "end_time": "2025-07-03T13:17:02.432067Z",
     "start_time": "2025-07-03T13:17:02.415206Z"
    }
   },
   "cell_type": "code",
   "source": "df.head()",
   "outputs": [
    {
     "data": {
      "text/plain": [
       "            market_value\n",
       "1994-01-07       3445.98\n",
       "1994-01-08       3445.98\n",
       "1994-01-09       3445.98\n",
       "1994-01-10       3440.58\n",
       "1994-01-11       3413.77"
      ],
      "text/html": [
       "<div>\n",
       "<style scoped>\n",
       "    .dataframe tbody tr th:only-of-type {\n",
       "        vertical-align: middle;\n",
       "    }\n",
       "\n",
       "    .dataframe tbody tr th {\n",
       "        vertical-align: top;\n",
       "    }\n",
       "\n",
       "    .dataframe thead th {\n",
       "        text-align: right;\n",
       "    }\n",
       "</style>\n",
       "<table border=\"1\" class=\"dataframe\">\n",
       "  <thead>\n",
       "    <tr style=\"text-align: right;\">\n",
       "      <th></th>\n",
       "      <th>market_value</th>\n",
       "    </tr>\n",
       "  </thead>\n",
       "  <tbody>\n",
       "    <tr>\n",
       "      <th>1994-01-07</th>\n",
       "      <td>3445.98</td>\n",
       "    </tr>\n",
       "    <tr>\n",
       "      <th>1994-01-08</th>\n",
       "      <td>3445.98</td>\n",
       "    </tr>\n",
       "    <tr>\n",
       "      <th>1994-01-09</th>\n",
       "      <td>3445.98</td>\n",
       "    </tr>\n",
       "    <tr>\n",
       "      <th>1994-01-10</th>\n",
       "      <td>3440.58</td>\n",
       "    </tr>\n",
       "    <tr>\n",
       "      <th>1994-01-11</th>\n",
       "      <td>3413.77</td>\n",
       "    </tr>\n",
       "  </tbody>\n",
       "</table>\n",
       "</div>"
      ]
     },
     "execution_count": 40,
     "metadata": {},
     "output_type": "execute_result"
    }
   ],
   "execution_count": 40
  },
  {
   "cell_type": "markdown",
   "metadata": {},
   "source": [
    "## The LLR Test\n",
    "### What is the LLR Test?\n",
    "LLR (Likelihood Ratio Test) is a statistical test that compares two nested models (i.e., one is a simplified version of the other). For example:\n",
    "\n",
    "+ ARCH(1) is a simplified case of ARCH(2)\n",
    "\n",
    "+ GARCH(1,1) is a simplified case of GARCH(2,1)\n",
    "\n",
    "LLR answers the question:\n",
    "Does the more complex model fit the data significantly better than the simpler one?\n",
    "### How does it work?\n",
    "For two models:\n",
    "\n",
    "+ `logL1` = log-likelihood of the simpler model\n",
    "\n",
    "+ `logL2` = log-likelihood of the more complex model\n",
    "\n",
    "+ `df` = number of additional parameters in the complex model\n",
    "\n",
    "### Test statistic:\n",
    "\n",
    "$$LLR = 2 \\cdot (\\log L_2 - \\log L_1)$$\n",
    "\n",
    "### What does the result mean?\n",
    "If $p-value < 0.05$, the complex model is statistically better\n",
    "\n",
    "If $p-value > 0.05$, the simpler model is sufficient (i.e., no need to complicate things)"
   ]
  },
  {
   "cell_type": "code",
   "metadata": {
    "ExecuteTime": {
     "end_time": "2025-07-03T13:17:02.548515Z",
     "start_time": "2025-07-03T13:17:02.524086Z"
    }
   },
   "source": [
    "from scipy.stats.distributions import chi2\n",
    "\n",
    "def LLR_test(fitted_mod1, fitted_mod2, DF=1):\n",
    "    L1 = fitted_mod1.llf\n",
    "    L2 = fitted_mod2.llf\n",
    "    LR = 2 * (L2 - L1)\n",
    "    p = chi2.sf(LR, DF).round(3)\n",
    "    return p"
   ],
   "outputs": [],
   "execution_count": 41
  },
  {
   "cell_type": "markdown",
   "metadata": {},
   "source": [
    "## Creating Returns & Squared Returns\n",
    "\n",
    "### `returns` – percentage changes\n",
    "\n",
    "$ \\frac{P_t - P_{t-1}}{P_{t-1}} = \\text{percentage change} $\n",
    "\n",
    "These are **daily percentage changes** in the value of the index.\n",
    "\n",
    "**Why do we need this?**\n",
    "\n",
    "+ ARCH/GARCH models do **not** model price levels – they model the **volatility of returns**.\n",
    "+ Returns often have a **mean close to zero**, but their **variance can change over time** – and that’s the key point.\n",
    "\n",
    "\n",
    "\n",
    "### `squared returns` – squared percentage changes\n",
    "\n",
    "This is essentially a **local variance estimate**, because:\n",
    "\n",
    "$ \\text{Var}(X) = E[(X - \\mu)^2] $ and if $ \\mu \\approx 0 $, then: $ \\text{Var}(X) \\approx E[X^2] $\n",
    "\n",
    "**Why?**\n",
    "\n",
    "+ ARCH and GARCH models estimate **volatility**, i.e., the behavior of $ \\text{Var}(X_t) $\n",
    "+ Volatility is **not constant** over time – we often observe **volatility clustering** (after a storm comes... another storm)\n",
    "\n",
    "\n",
    "\n",
    "### How does it look visually?\n",
    "\n",
    "+ `returns`: jump up and down, with an average around 0\n",
    "+ `squared returns`: show clear **clusters of large values** (high volatility periods)\n",
    "\n",
    "This is why **ARCH/GARCH models learn from `squared returns`** – to predict future changes in volatility, not returns themselves.\n"
   ]
  },
  {
   "cell_type": "code",
   "metadata": {
    "scrolled": true,
    "ExecuteTime": {
     "end_time": "2025-07-03T13:17:02.858702Z",
     "start_time": "2025-07-03T13:17:02.850954Z"
    }
   },
   "source": "df['returns'] = df['market_value'].pct_change(1)*100",
   "outputs": [],
   "execution_count": 42
  },
  {
   "cell_type": "code",
   "metadata": {
    "ExecuteTime": {
     "end_time": "2025-07-03T13:17:02.910367Z",
     "start_time": "2025-07-03T13:17:02.905603Z"
    }
   },
   "source": "df['sq_returns'] = df['returns'] * df['returns']",
   "outputs": [],
   "execution_count": 43
  },
  {
   "cell_type": "markdown",
   "metadata": {},
   "source": [
    "## Returns vs Squared Returns"
   ]
  },
  {
   "cell_type": "code",
   "metadata": {
    "ExecuteTime": {
     "end_time": "2025-07-03T13:17:03.524241Z",
     "start_time": "2025-07-03T13:17:03.170676Z"
    }
   },
   "source": [
    "df['returns'].plot(figsize=(12,8))\n",
    "plt.title(\"Returns\", size = 24)\n",
    "plt.show()"
   ],
   "outputs": [
    {
     "data": {
      "text/plain": [
       "<Figure size 1200x800 with 1 Axes>"
      ],
      "image/png": "[encoded data removed]"
     },
     "metadata": {},
     "output_type": "display_data"
    }
   ],
   "execution_count": 44
  },
  {
   "metadata": {
    "ExecuteTime": {
     "end_time": "2025-07-03T13:17:04.021598Z",
     "start_time": "2025-07-03T13:17:03.605227Z"
    }
   },
   "cell_type": "code",
   "source": [
    "df['sq_returns'].plot(figsize=((12,8)))\n",
    "plt.title(\"Volatility\", size = 24)\n",
    "plt.show()"
   ],
   "outputs": [
    {
     "data": {
      "text/plain": [
       "<Figure size 1200x800 with 1 Axes>"
      ],
      "image/png": "[encoded data removed]"
     },
     "metadata": {},
     "output_type": "display_data"
    }
   ],
   "execution_count": 45
  },
  {
   "metadata": {
    "ExecuteTime": {
     "end_time": "2025-07-03T13:17:04.305042Z",
     "start_time": "2025-07-03T13:17:04.033571Z"
    }
   },
   "cell_type": "code",
   "source": [
    "from statsmodels.graphics.tsaplots import plot_acf, plot_pacf\n",
    "\n",
    "plot_pacf(df.returns[1:], lags = 40)\n",
    "plt.title(\"PACF of Returns\", size = 20)\n",
    "plt.show()"
   ],
   "outputs": [
    {
     "data": {
      "text/plain": [
       "<Figure size 640x480 with 1 Axes>"
      ],
      "image/png": "[encoded data removed]"
     },
     "metadata": {},
     "output_type": "display_data"
    }
   ],
   "execution_count": 46
  },
  {
   "metadata": {
    "ExecuteTime": {
     "end_time": "2025-07-03T13:17:04.590067Z",
     "start_time": "2025-07-03T13:17:04.408838Z"
    }
   },
   "cell_type": "code",
   "source": [
    "from statsmodels.graphics.tsaplots import plot_acf, plot_pacf\n",
    "\n",
    "plot_pacf(df.returns[1:], lags = 40)\n",
    "plt.title(\"PACF of Returns\", size = 20)\n",
    "plt.ylim(-0.075, 0.05)  # narrowing Y axis\n",
    "plt.show()\n"
   ],
   "outputs": [
    {
     "data": {
      "text/plain": [
       "<Figure size 640x480 with 1 Axes>"
      ],
      "image/png": "[encoded data removed]"
     },
     "metadata": {},
     "output_type": "display_data"
    }
   ],
   "execution_count": 47
  },
  {
   "metadata": {
    "ExecuteTime": {
     "end_time": "2025-07-03T13:17:05.054793Z",
     "start_time": "2025-07-03T13:17:04.686705Z"
    }
   },
   "cell_type": "code",
   "source": [
    "from statsmodels.graphics.tsaplots import plot_acf, plot_pacf\n",
    "\n",
    "plot_pacf(df.sq_returns[1:], lags = 40)\n",
    "plt.title(\"PACF of Squared Returns\", size = 20)\n",
    "plt.show()"
   ],
   "outputs": [
    {
     "data": {
      "text/plain": [
       "<Figure size 640x480 with 1 Axes>"
      ],
      "image/png": "[encoded data removed]"
     },
     "metadata": {},
     "output_type": "display_data"
    }
   ],
   "execution_count": 48
  },
  {
   "metadata": {
    "ExecuteTime": {
     "end_time": "2025-07-03T13:17:05.521255Z",
     "start_time": "2025-07-03T13:17:05.139598Z"
    }
   },
   "cell_type": "code",
   "source": [
    "from statsmodels.graphics.tsaplots import plot_acf, plot_pacf\n",
    "\n",
    "plot_pacf(df.sq_returns[1:], lags = 40)\n",
    "plt.title(\"PACF of Squared Returns\", size = 20)\n",
    "plt.ylim(-0.05, 0.3)  # narrowing Y axis\n",
    "plt.show()"
   ],
   "outputs": [
    {
     "data": {
      "text/plain": [
       "<Figure size 640x480 with 1 Axes>"
      ],
      "image/png": "[encoded data removed]"
     },
     "metadata": {},
     "output_type": "display_data"
    }
   ],
   "execution_count": 49
  },
  {
   "cell_type": "markdown",
   "metadata": {},
   "source": "## `ARCH()` model"
  },
  {
   "cell_type": "code",
   "metadata": {
    "ExecuteTime": {
     "end_time": "2025-07-03T13:17:05.535222Z",
     "start_time": "2025-07-03T13:17:05.531234Z"
    }
   },
   "source": [
    "from arch import arch_model"
   ],
   "outputs": [],
   "execution_count": 50
  },
  {
   "cell_type": "code",
   "metadata": {
    "ExecuteTime": {
     "end_time": "2025-07-03T13:17:05.868003Z",
     "start_time": "2025-07-03T13:17:05.672772Z"
    }
   },
   "source": [
    "model_arch_1 = arch_model(df.returns[1:])\n",
    "results_arch_1 = model_arch_1.fit(update_freq = 5)\n",
    "results_arch_1.summary()"
   ],
   "outputs": [
    {
     "name": "stdout",
     "output_type": "stream",
     "text": [
      "Iteration:      5,   Func. Count:     34,   Neg. LLF: 8654.501694554965\n",
      "Iteration:     10,   Func. Count:     64,   Neg. LLF: 8621.88452063908\n",
      "Optimization terminated successfully    (Exit mode 0)\n",
      "            Current function value: 8617.152713345502\n",
      "            Iterations: 14\n",
      "            Function evaluations: 85\n",
      "            Gradient evaluations: 14\n"
     ]
    },
    {
     "data": {
      "text/plain": [
       "<class 'statsmodels.iolib.summary.Summary'>\n",
       "\"\"\"\n",
       "                     Constant Mean - GARCH Model Results                      \n",
       "==============================================================================\n",
       "Dep. Variable:                returns   R-squared:                       0.000\n",
       "Mean Model:             Constant Mean   Adj. R-squared:                  0.000\n",
       "Vol Model:                      GARCH   Log-Likelihood:               -8617.15\n",
       "Distribution:                  Normal   AIC:                           17242.3\n",
       "Method:            Maximum Likelihood   BIC:                           17269.7\n",
       "                                        No. Observations:                 7030\n",
       "Date:                Thu, Jul 03 2025   Df Residuals:                     7029\n",
       "Time:                        15:17:05   Df Model:                            1\n",
       "                                 Mean Model                                 \n",
       "============================================================================\n",
       "                 coef    std err          t      P>|t|      95.0% Conf. Int.\n",
       "----------------------------------------------------------------------------\n",
       "mu             0.0333  8.718e-03      3.822  1.324e-04 [1.623e-02,5.040e-02]\n",
       "                              Volatility Model                              \n",
       "============================================================================\n",
       "                 coef    std err          t      P>|t|      95.0% Conf. Int.\n",
       "----------------------------------------------------------------------------\n",
       "omega      4.6048e-03  1.284e-03      3.587  3.351e-04 [2.088e-03,7.121e-03]\n",
       "alpha[1]       0.0501  6.072e-03      8.259  1.469e-16 [3.825e-02,6.205e-02]\n",
       "beta[1]        0.9454  6.412e-03    147.429      0.000     [  0.933,  0.958]\n",
       "============================================================================\n",
       "\n",
       "Covariance estimator: robust\n",
       "\"\"\""
      ],
      "text/html": [
       "<table class=\"simpletable\">\n",
       "<caption>Constant Mean - GARCH Model Results</caption>\n",
       "<tr>\n",
       "  <th>Dep. Variable:</th>       <td>returns</td>      <th>  R-squared:         </th>  <td>   0.000</td> \n",
       "</tr>\n",
       "<tr>\n",
       "  <th>Mean Model:</th>       <td>Constant Mean</td>   <th>  Adj. R-squared:    </th>  <td>   0.000</td> \n",
       "</tr>\n",
       "<tr>\n",
       "  <th>Vol Model:</th>            <td>GARCH</td>       <th>  Log-Likelihood:    </th> <td>  -8617.15</td>\n",
       "</tr>\n",
       "<tr>\n",
       "  <th>Distribution:</th>        <td>Normal</td>       <th>  AIC:               </th> <td>   17242.3</td>\n",
       "</tr>\n",
       "<tr>\n",
       "  <th>Method:</th>        <td>Maximum Likelihood</td> <th>  BIC:               </th> <td>   17269.7</td>\n",
       "</tr>\n",
       "<tr>\n",
       "  <th></th>                        <td></td>          <th>  No. Observations:  </th>    <td>7030</td>   \n",
       "</tr>\n",
       "<tr>\n",
       "  <th>Date:</th>           <td>Thu, Jul 03 2025</td>  <th>  Df Residuals:      </th>    <td>7029</td>   \n",
       "</tr>\n",
       "<tr>\n",
       "  <th>Time:</th>               <td>15:17:05</td>      <th>  Df Model:          </th>      <td>1</td>    \n",
       "</tr>\n",
       "</table>\n",
       "<table class=\"simpletable\">\n",
       "<caption>Mean Model</caption>\n",
       "<tr>\n",
       "   <td></td>     <th>coef</th>     <th>std err</th>      <th>t</th>       <th>P>|t|</th>     <th>95.0% Conf. Int.</th>   \n",
       "</tr>\n",
       "<tr>\n",
       "  <th>mu</th> <td>    0.0333</td> <td>8.718e-03</td> <td>    3.822</td> <td>1.324e-04</td> <td>[1.623e-02,5.040e-02]</td>\n",
       "</tr>\n",
       "</table>\n",
       "<table class=\"simpletable\">\n",
       "<caption>Volatility Model</caption>\n",
       "<tr>\n",
       "      <td></td>        <th>coef</th>     <th>std err</th>      <th>t</th>       <th>P>|t|</th>     <th>95.0% Conf. Int.</th>   \n",
       "</tr>\n",
       "<tr>\n",
       "  <th>omega</th>    <td>4.6048e-03</td> <td>1.284e-03</td> <td>    3.587</td> <td>3.351e-04</td> <td>[2.088e-03,7.121e-03]</td>\n",
       "</tr>\n",
       "<tr>\n",
       "  <th>alpha[1]</th> <td>    0.0501</td> <td>6.072e-03</td> <td>    8.259</td> <td>1.469e-16</td> <td>[3.825e-02,6.205e-02]</td>\n",
       "</tr>\n",
       "<tr>\n",
       "  <th>beta[1]</th>  <td>    0.9454</td> <td>6.412e-03</td> <td>  147.429</td>   <td>0.000</td>     <td>[  0.933,  0.958]</td>  \n",
       "</tr>\n",
       "</table><br/><br/>Covariance estimator: robust"
      ],
      "text/latex": "\\begin{center}\n\\begin{tabular}{lclc}\n\\toprule\n\\textbf{Dep. Variable:} &      returns       & \\textbf{  R-squared:         } &     0.000   \\\\\n\\textbf{Mean Model:}    &   Constant Mean    & \\textbf{  Adj. R-squared:    } &     0.000   \\\\\n\\textbf{Vol Model:}     &       GARCH        & \\textbf{  Log-Likelihood:    } &   -8617.15  \\\\\n\\textbf{Distribution:}  &       Normal       & \\textbf{  AIC:               } &    17242.3  \\\\\n\\textbf{Method:}        & Maximum Likelihood & \\textbf{  BIC:               } &    17269.7  \\\\\n\\textbf{}               &                    & \\textbf{  No. Observations:  } &    7030     \\\\\n\\textbf{Date:}          &  Thu, Jul 03 2025  & \\textbf{  Df Residuals:      } &    7029     \\\\\n\\textbf{Time:}          &      15:17:05      & \\textbf{  Df Model:          } &     1       \\\\\n\\bottomrule\n\\end{tabular}\n\\begin{tabular}{lccccc}\n            & \\textbf{coef} & \\textbf{std err} & \\textbf{t} & \\textbf{P$> |$t$|$} & \\textbf{95.0\\% Conf. Int.}  \\\\\n\\midrule\n\\textbf{mu} &       0.0333  &    8.718e-03     &     3.822  &      1.324e-04       &   [1.623e-02,5.040e-02]     \\\\\n                  & \\textbf{coef} & \\textbf{std err} & \\textbf{t} & \\textbf{P$> |$t$|$} & \\textbf{95.0\\% Conf. Int.}  \\\\\n\\midrule\n\\textbf{omega}    &   4.6048e-03  &    1.284e-03     &     3.587  &      3.351e-04       &   [2.088e-03,7.121e-03]     \\\\\n\\textbf{alpha[1]} &       0.0501  &    6.072e-03     &     8.259  &      1.469e-16       &   [3.825e-02,6.205e-02]     \\\\\n\\textbf{beta[1]}  &       0.9454  &    6.412e-03     &   147.429  &        0.000         &     [  0.933,  0.958]       \\\\\n\\bottomrule\n\\end{tabular}\n%\\caption{Constant Mean - GARCH Model Results}\n\\end{center}\n\nCovariance estimator: robust"
     },
     "execution_count": 51,
     "metadata": {},
     "output_type": "execute_result"
    }
   ],
   "execution_count": 51
  },
  {
   "cell_type": "markdown",
   "metadata": {},
   "source": "## The Simple `ARCH(1)`"
  },
  {
   "cell_type": "code",
   "metadata": {
    "ExecuteTime": {
     "end_time": "2025-07-03T13:17:06.353669Z",
     "start_time": "2025-07-03T13:17:06.271315Z"
    }
   },
   "source": [
    "model_arch_1 = arch_model(df.returns[1:], mean = \"Constant\", vol = \"ARCH\", p = 1)\n",
    "results_arch_1 = model_arch_1.fit(update_freq = 5)\n",
    "results_arch_1.summary()"
   ],
   "outputs": [
    {
     "name": "stdout",
     "output_type": "stream",
     "text": [
      "Iteration:      5,   Func. Count:     30,   Neg. LLF: 9712.78784032783\n",
      "Optimization terminated successfully    (Exit mode 0)\n",
      "            Current function value: 9712.78784032783\n",
      "            Iterations: 6\n",
      "            Function evaluations: 33\n",
      "            Gradient evaluations: 6\n"
     ]
    },
    {
     "data": {
      "text/plain": [
       "<class 'statsmodels.iolib.summary.Summary'>\n",
       "\"\"\"\n",
       "                      Constant Mean - ARCH Model Results                      \n",
       "==============================================================================\n",
       "Dep. Variable:                returns   R-squared:                       0.000\n",
       "Mean Model:             Constant Mean   Adj. R-squared:                  0.000\n",
       "Vol Model:                       ARCH   Log-Likelihood:               -9712.79\n",
       "Distribution:                  Normal   AIC:                           19431.6\n",
       "Method:            Maximum Likelihood   BIC:                           19452.1\n",
       "                                        No. Observations:                 7030\n",
       "Date:                Thu, Jul 03 2025   Df Residuals:                     7029\n",
       "Time:                        15:17:06   Df Model:                            1\n",
       "                                  Mean Model                                 \n",
       "=============================================================================\n",
       "                 coef    std err          t      P>|t|       95.0% Conf. Int.\n",
       "-----------------------------------------------------------------------------\n",
       "mu             0.0213  1.160e-02      1.836  6.632e-02 [-1.435e-03,4.404e-02]\n",
       "                            Volatility Model                            \n",
       "========================================================================\n",
       "                 coef    std err          t      P>|t|  95.0% Conf. Int.\n",
       "------------------------------------------------------------------------\n",
       "omega          0.7872  4.317e-02     18.236  2.686e-74 [  0.703,  0.872]\n",
       "alpha[1]       0.2205  3.773e-02      5.845  5.057e-09 [  0.147,  0.294]\n",
       "========================================================================\n",
       "\n",
       "Covariance estimator: robust\n",
       "\"\"\""
      ],
      "text/html": [
       "<table class=\"simpletable\">\n",
       "<caption>Constant Mean - ARCH Model Results</caption>\n",
       "<tr>\n",
       "  <th>Dep. Variable:</th>       <td>returns</td>      <th>  R-squared:         </th>  <td>   0.000</td> \n",
       "</tr>\n",
       "<tr>\n",
       "  <th>Mean Model:</th>       <td>Constant Mean</td>   <th>  Adj. R-squared:    </th>  <td>   0.000</td> \n",
       "</tr>\n",
       "<tr>\n",
       "  <th>Vol Model:</th>            <td>ARCH</td>        <th>  Log-Likelihood:    </th> <td>  -9712.79</td>\n",
       "</tr>\n",
       "<tr>\n",
       "  <th>Distribution:</th>        <td>Normal</td>       <th>  AIC:               </th> <td>   19431.6</td>\n",
       "</tr>\n",
       "<tr>\n",
       "  <th>Method:</th>        <td>Maximum Likelihood</td> <th>  BIC:               </th> <td>   19452.1</td>\n",
       "</tr>\n",
       "<tr>\n",
       "  <th></th>                        <td></td>          <th>  No. Observations:  </th>    <td>7030</td>   \n",
       "</tr>\n",
       "<tr>\n",
       "  <th>Date:</th>           <td>Thu, Jul 03 2025</td>  <th>  Df Residuals:      </th>    <td>7029</td>   \n",
       "</tr>\n",
       "<tr>\n",
       "  <th>Time:</th>               <td>15:17:06</td>      <th>  Df Model:          </th>      <td>1</td>    \n",
       "</tr>\n",
       "</table>\n",
       "<table class=\"simpletable\">\n",
       "<caption>Mean Model</caption>\n",
       "<tr>\n",
       "   <td></td>     <th>coef</th>     <th>std err</th>      <th>t</th>       <th>P>|t|</th>      <th>95.0% Conf. Int.</th>   \n",
       "</tr>\n",
       "<tr>\n",
       "  <th>mu</th> <td>    0.0213</td> <td>1.160e-02</td> <td>    1.836</td> <td>6.632e-02</td> <td>[-1.435e-03,4.404e-02]</td>\n",
       "</tr>\n",
       "</table>\n",
       "<table class=\"simpletable\">\n",
       "<caption>Volatility Model</caption>\n",
       "<tr>\n",
       "      <td></td>        <th>coef</th>     <th>std err</th>      <th>t</th>       <th>P>|t|</th>   <th>95.0% Conf. Int.</th> \n",
       "</tr>\n",
       "<tr>\n",
       "  <th>omega</th>    <td>    0.7872</td> <td>4.317e-02</td> <td>   18.236</td> <td>2.686e-74</td> <td>[  0.703,  0.872]</td>\n",
       "</tr>\n",
       "<tr>\n",
       "  <th>alpha[1]</th> <td>    0.2205</td> <td>3.773e-02</td> <td>    5.845</td> <td>5.057e-09</td> <td>[  0.147,  0.294]</td>\n",
       "</tr>\n",
       "</table><br/><br/>Covariance estimator: robust"
      ],
      "text/latex": "\\begin{center}\n\\begin{tabular}{lclc}\n\\toprule\n\\textbf{Dep. Variable:} &      returns       & \\textbf{  R-squared:         } &     0.000   \\\\\n\\textbf{Mean Model:}    &   Constant Mean    & \\textbf{  Adj. R-squared:    } &     0.000   \\\\\n\\textbf{Vol Model:}     &        ARCH        & \\textbf{  Log-Likelihood:    } &   -9712.79  \\\\\n\\textbf{Distribution:}  &       Normal       & \\textbf{  AIC:               } &    19431.6  \\\\\n\\textbf{Method:}        & Maximum Likelihood & \\textbf{  BIC:               } &    19452.1  \\\\\n\\textbf{}               &                    & \\textbf{  No. Observations:  } &    7030     \\\\\n\\textbf{Date:}          &  Thu, Jul 03 2025  & \\textbf{  Df Residuals:      } &    7029     \\\\\n\\textbf{Time:}          &      15:17:06      & \\textbf{  Df Model:          } &     1       \\\\\n\\bottomrule\n\\end{tabular}\n\\begin{tabular}{lccccc}\n            & \\textbf{coef} & \\textbf{std err} & \\textbf{t} & \\textbf{P$> |$t$|$} & \\textbf{95.0\\% Conf. Int.}  \\\\\n\\midrule\n\\textbf{mu} &       0.0213  &    1.160e-02     &     1.836  &      6.632e-02       &   [-1.435e-03,4.404e-02]    \\\\\n                  & \\textbf{coef} & \\textbf{std err} & \\textbf{t} & \\textbf{P$> |$t$|$} & \\textbf{95.0\\% Conf. Int.}  \\\\\n\\midrule\n\\textbf{omega}    &       0.7872  &    4.317e-02     &    18.236  &      2.686e-74       &     [  0.703,  0.872]       \\\\\n\\textbf{alpha[1]} &       0.2205  &    3.773e-02     &     5.845  &      5.057e-09       &     [  0.147,  0.294]       \\\\\n\\bottomrule\n\\end{tabular}\n%\\caption{Constant Mean - ARCH Model Results}\n\\end{center}\n\nCovariance estimator: robust"
     },
     "execution_count": 52,
     "metadata": {},
     "output_type": "execute_result"
    }
   ],
   "execution_count": 52
  },
  {
   "cell_type": "code",
   "metadata": {
    "ExecuteTime": {
     "end_time": "2025-07-03T13:17:07.000116Z",
     "start_time": "2025-07-03T13:17:06.498810Z"
    }
   },
   "source": [
    "model_arch_1 = arch_model(df.returns[1:], mean = \"AR\", lags = [2, 3, 6], vol = \"ARCH\", p = 1, dist = \"ged\")\n",
    "results_arch_1 = model_arch_1.fit(update_freq = 5)\n",
    "results_arch_1.summary()"
   ],
   "outputs": [
    {
     "name": "stdout",
     "output_type": "stream",
     "text": [
      "Iteration:      5,   Func. Count:     55,   Neg. LLF: 7452133.366671326\n",
      "Iteration:     10,   Func. Count:    102,   Neg. LLF: 8109.794600399044\n",
      "Iteration:     15,   Func. Count:    150,   Neg. LLF: 8001.4438086102255\n",
      "Iteration:     20,   Func. Count:    198,   Neg. LLF: 7914.395682037524\n",
      "Iteration:     25,   Func. Count:    244,   Neg. LLF: 7909.471007932619\n",
      "Iteration:     30,   Func. Count:    291,   Neg. LLF: 7908.887967352444\n",
      "Iteration:     35,   Func. Count:    338,   Neg. LLF: 7908.8694910111935\n",
      "Optimization terminated successfully    (Exit mode 0)\n",
      "            Current function value: 7908.8652358619875\n",
      "            Iterations: 38\n",
      "            Function evaluations: 365\n",
      "            Gradient evaluations: 38\n"
     ]
    },
    {
     "data": {
      "text/plain": [
       "<class 'statsmodels.iolib.summary.Summary'>\n",
       "\"\"\"\n",
       "                                 AR - ARCH Model Results                                  \n",
       "==========================================================================================\n",
       "Dep. Variable:                            returns   R-squared:                      -0.000\n",
       "Mean Model:                                    AR   Adj. R-squared:                 -0.001\n",
       "Vol Model:                                   ARCH   Log-Likelihood:               -7908.87\n",
       "Distribution:      Generalized Error Distribution   AIC:                           15831.7\n",
       "Method:                        Maximum Likelihood   BIC:                           15879.7\n",
       "                                                    No. Observations:                 7024\n",
       "Date:                            Thu, Jul 03 2025   Df Residuals:                     7020\n",
       "Time:                                    15:17:06   Df Model:                            4\n",
       "                                  Mean Model                                  \n",
       "==============================================================================\n",
       "                  coef    std err          t      P>|t|       95.0% Conf. Int.\n",
       "------------------------------------------------------------------------------\n",
       "Const      -1.9845e-08  4.986e-07 -3.980e-02      0.968 [-9.970e-07,9.574e-07]\n",
       "returns[2] -6.3809e-09  6.166e-07 -1.035e-02      0.992 [-1.215e-06,1.202e-06]\n",
       "returns[3] -7.6599e-08  6.335e-07     -0.121      0.904 [-1.318e-06,1.165e-06]\n",
       "returns[6]  9.1616e-08  1.112e-06  8.239e-02      0.934 [-2.088e-06,2.271e-06]\n",
       "                            Volatility Model                            \n",
       "========================================================================\n",
       "                 coef    std err          t      P>|t|  95.0% Conf. Int.\n",
       "------------------------------------------------------------------------\n",
       "omega          0.4899  2.293e-02     21.366 2.767e-101 [  0.445,  0.535]\n",
       "alpha[1]       0.2761  3.393e-02      8.138  4.011e-16 [  0.210,  0.343]\n",
       "                              Distribution                              \n",
       "========================================================================\n",
       "                 coef    std err          t      P>|t|  95.0% Conf. Int.\n",
       "------------------------------------------------------------------------\n",
       "nu             1.0100  3.252e-02     31.056 9.445e-212 [  0.946,  1.074]\n",
       "========================================================================\n",
       "\n",
       "Covariance estimator: robust\n",
       "\"\"\""
      ],
      "text/html": [
       "<table class=\"simpletable\">\n",
       "<caption>AR - ARCH Model Results</caption>\n",
       "<tr>\n",
       "  <th>Dep. Variable:</th>             <td>returns</td>            <th>  R-squared:         </th>  <td>  -0.000</td> \n",
       "</tr>\n",
       "<tr>\n",
       "  <th>Mean Model:</th>                  <td>AR</td>               <th>  Adj. R-squared:    </th>  <td>  -0.001</td> \n",
       "</tr>\n",
       "<tr>\n",
       "  <th>Vol Model:</th>                  <td>ARCH</td>              <th>  Log-Likelihood:    </th> <td>  -7908.87</td>\n",
       "</tr>\n",
       "<tr>\n",
       "  <th>Distribution:</th>  <td>Generalized Error Distribution</td> <th>  AIC:               </th> <td>   15831.7</td>\n",
       "</tr>\n",
       "<tr>\n",
       "  <th>Method:</th>              <td>Maximum Likelihood</td>       <th>  BIC:               </th> <td>   15879.7</td>\n",
       "</tr>\n",
       "<tr>\n",
       "  <th></th>                              <td></td>                <th>  No. Observations:  </th>    <td>7024</td>   \n",
       "</tr>\n",
       "<tr>\n",
       "  <th>Date:</th>                 <td>Thu, Jul 03 2025</td>        <th>  Df Residuals:      </th>    <td>7020</td>   \n",
       "</tr>\n",
       "<tr>\n",
       "  <th>Time:</th>                     <td>15:17:06</td>            <th>  Df Model:          </th>      <td>4</td>    \n",
       "</tr>\n",
       "</table>\n",
       "<table class=\"simpletable\">\n",
       "<caption>Mean Model</caption>\n",
       "<tr>\n",
       "       <td></td>         <th>coef</th>      <th>std err</th>       <th>t</th>       <th>P>|t|</th>      <th>95.0% Conf. Int.</th>   \n",
       "</tr>\n",
       "<tr>\n",
       "  <th>Const</th>      <td>-1.9845e-08</td> <td>4.986e-07</td> <td>-3.980e-02</td> <td>    0.968</td> <td>[-9.970e-07,9.574e-07]</td>\n",
       "</tr>\n",
       "<tr>\n",
       "  <th>returns[2]</th> <td>-6.3809e-09</td> <td>6.166e-07</td> <td>-1.035e-02</td> <td>    0.992</td> <td>[-1.215e-06,1.202e-06]</td>\n",
       "</tr>\n",
       "<tr>\n",
       "  <th>returns[3]</th> <td>-7.6599e-08</td> <td>6.335e-07</td>  <td>   -0.121</td> <td>    0.904</td> <td>[-1.318e-06,1.165e-06]</td>\n",
       "</tr>\n",
       "<tr>\n",
       "  <th>returns[6]</th> <td>9.1616e-08</td>  <td>1.112e-06</td>  <td>8.239e-02</td> <td>    0.934</td> <td>[-2.088e-06,2.271e-06]</td>\n",
       "</tr>\n",
       "</table>\n",
       "<table class=\"simpletable\">\n",
       "<caption>Volatility Model</caption>\n",
       "<tr>\n",
       "      <td></td>        <th>coef</th>     <th>std err</th>      <th>t</th>        <th>P>|t|</th>   <th>95.0% Conf. Int.</th> \n",
       "</tr>\n",
       "<tr>\n",
       "  <th>omega</th>    <td>    0.4899</td> <td>2.293e-02</td> <td>   21.366</td> <td>2.767e-101</td> <td>[  0.445,  0.535]</td>\n",
       "</tr>\n",
       "<tr>\n",
       "  <th>alpha[1]</th> <td>    0.2761</td> <td>3.393e-02</td> <td>    8.138</td>  <td>4.011e-16</td> <td>[  0.210,  0.343]</td>\n",
       "</tr>\n",
       "</table>\n",
       "<table class=\"simpletable\">\n",
       "<caption>Distribution</caption>\n",
       "<tr>\n",
       "   <td></td>     <th>coef</th>     <th>std err</th>      <th>t</th>        <th>P>|t|</th>   <th>95.0% Conf. Int.</th> \n",
       "</tr>\n",
       "<tr>\n",
       "  <th>nu</th> <td>    1.0100</td> <td>3.252e-02</td> <td>   31.056</td> <td>9.445e-212</td> <td>[  0.946,  1.074]</td>\n",
       "</tr>\n",
       "</table><br/><br/>Covariance estimator: robust"
      ],
      "text/latex": "\\begin{center}\n\\begin{tabular}{lclc}\n\\toprule\n\\textbf{Dep. Variable:} &            returns             & \\textbf{  R-squared:         } &    -0.000   \\\\\n\\textbf{Mean Model:}    &               AR               & \\textbf{  Adj. R-squared:    } &    -0.001   \\\\\n\\textbf{Vol Model:}     &              ARCH              & \\textbf{  Log-Likelihood:    } &   -7908.87  \\\\\n\\textbf{Distribution:}  & Generalized Error Distribution & \\textbf{  AIC:               } &    15831.7  \\\\\n\\textbf{Method:}        &       Maximum Likelihood       & \\textbf{  BIC:               } &    15879.7  \\\\\n\\textbf{}               &                                & \\textbf{  No. Observations:  } &    7024     \\\\\n\\textbf{Date:}          &        Thu, Jul 03 2025        & \\textbf{  Df Residuals:      } &    7020     \\\\\n\\textbf{Time:}          &            15:17:06            & \\textbf{  Df Model:          } &     4       \\\\\n\\bottomrule\n\\end{tabular}\n\\begin{tabular}{lccccc}\n                    & \\textbf{coef} & \\textbf{std err} & \\textbf{t} & \\textbf{P$> |$t$|$} & \\textbf{95.0\\% Conf. Int.}  \\\\\n\\midrule\n\\textbf{Const}      &  -1.9845e-08  &    4.986e-07     & -3.980e-02 &          0.968       &   [-9.970e-07,9.574e-07]    \\\\\n\\textbf{returns[2]} &  -6.3809e-09  &    6.166e-07     & -1.035e-02 &          0.992       &   [-1.215e-06,1.202e-06]    \\\\\n\\textbf{returns[3]} &  -7.6599e-08  &    6.335e-07     &    -0.121  &          0.904       &   [-1.318e-06,1.165e-06]    \\\\\n\\textbf{returns[6]} &   9.1616e-08  &    1.112e-06     & 8.239e-02  &          0.934       &   [-2.088e-06,2.271e-06]    \\\\\n                  & \\textbf{coef} & \\textbf{std err} & \\textbf{t} & \\textbf{P$> |$t$|$} & \\textbf{95.0\\% Conf. Int.}  \\\\\n\\midrule\n\\textbf{omega}    &       0.4899  &    2.293e-02     &    21.366  &      2.767e-101      &     [  0.445,  0.535]       \\\\\n\\textbf{alpha[1]} &       0.2761  &    3.393e-02     &     8.138  &      4.011e-16       &     [  0.210,  0.343]       \\\\\n            & \\textbf{coef} & \\textbf{std err} & \\textbf{t} & \\textbf{P$> |$t$|$} & \\textbf{95.0\\% Conf. Int.}  \\\\\n\\midrule\n\\textbf{nu} &       1.0100  &    3.252e-02     &    31.056  &      9.445e-212      &     [  0.946,  1.074]       \\\\\n\\bottomrule\n\\end{tabular}\n%\\caption{AR - ARCH Model Results}\n\\end{center}\n\nCovariance estimator: robust"
     },
     "execution_count": 53,
     "metadata": {},
     "output_type": "execute_result"
    }
   ],
   "execution_count": 53
  },
  {
   "cell_type": "markdown",
   "metadata": {},
   "source": "## Higher-Lag `ARCH()` Models"
  },
  {
   "cell_type": "code",
   "metadata": {
    "ExecuteTime": {
     "end_time": "2025-07-03T13:17:07.112018Z",
     "start_time": "2025-07-03T13:17:07.021879Z"
    }
   },
   "source": [
    "model_arch_2 = arch_model(df.returns[1:], mean = \"Constant\", vol = \"ARCH\", p = 2)\n",
    "results_arch_2 = model_arch_2.fit(update_freq = 5)\n",
    "results_arch_2.summary()"
   ],
   "outputs": [
    {
     "name": "stdout",
     "output_type": "stream",
     "text": [
      "Iteration:      5,   Func. Count:     36,   Neg. LLF: 9757.4819466005\n",
      "Iteration:     10,   Func. Count:     63,   Neg. LLF: 9657.729978671774\n",
      "Optimization terminated successfully    (Exit mode 0)\n",
      "            Current function value: 9657.729978671723\n",
      "            Iterations: 10\n",
      "            Function evaluations: 63\n",
      "            Gradient evaluations: 10\n"
     ]
    },
    {
     "data": {
      "text/plain": [
       "<class 'statsmodels.iolib.summary.Summary'>\n",
       "\"\"\"\n",
       "                      Constant Mean - ARCH Model Results                      \n",
       "==============================================================================\n",
       "Dep. Variable:                returns   R-squared:                       0.000\n",
       "Mean Model:             Constant Mean   Adj. R-squared:                  0.000\n",
       "Vol Model:                       ARCH   Log-Likelihood:               -9657.73\n",
       "Distribution:                  Normal   AIC:                           19323.5\n",
       "Method:            Maximum Likelihood   BIC:                           19350.9\n",
       "                                        No. Observations:                 7030\n",
       "Date:                Thu, Jul 03 2025   Df Residuals:                     7029\n",
       "Time:                        15:17:07   Df Model:                            1\n",
       "                                 Mean Model                                 \n",
       "============================================================================\n",
       "                 coef    std err          t      P>|t|      95.0% Conf. Int.\n",
       "----------------------------------------------------------------------------\n",
       "mu             0.0245  1.149e-02      2.129  3.324e-02 [1.944e-03,4.700e-02]\n",
       "                              Volatility Model                              \n",
       "============================================================================\n",
       "                 coef    std err          t      P>|t|      95.0% Conf. Int.\n",
       "----------------------------------------------------------------------------\n",
       "omega          0.7609  4.158e-02     18.299  8.453e-75     [  0.679,  0.842]\n",
       "alpha[1]       0.1567  3.006e-02      5.213  1.856e-07   [9.780e-02,  0.216]\n",
       "alpha[2]       0.0606  1.869e-02      3.241  1.192e-03 [2.393e-02,9.718e-02]\n",
       "============================================================================\n",
       "\n",
       "Covariance estimator: robust\n",
       "\"\"\""
      ],
      "text/html": [
       "<table class=\"simpletable\">\n",
       "<caption>Constant Mean - ARCH Model Results</caption>\n",
       "<tr>\n",
       "  <th>Dep. Variable:</th>       <td>returns</td>      <th>  R-squared:         </th>  <td>   0.000</td> \n",
       "</tr>\n",
       "<tr>\n",
       "  <th>Mean Model:</th>       <td>Constant Mean</td>   <th>  Adj. R-squared:    </th>  <td>   0.000</td> \n",
       "</tr>\n",
       "<tr>\n",
       "  <th>Vol Model:</th>            <td>ARCH</td>        <th>  Log-Likelihood:    </th> <td>  -9657.73</td>\n",
       "</tr>\n",
       "<tr>\n",
       "  <th>Distribution:</th>        <td>Normal</td>       <th>  AIC:               </th> <td>   19323.5</td>\n",
       "</tr>\n",
       "<tr>\n",
       "  <th>Method:</th>        <td>Maximum Likelihood</td> <th>  BIC:               </th> <td>   19350.9</td>\n",
       "</tr>\n",
       "<tr>\n",
       "  <th></th>                        <td></td>          <th>  No. Observations:  </th>    <td>7030</td>   \n",
       "</tr>\n",
       "<tr>\n",
       "  <th>Date:</th>           <td>Thu, Jul 03 2025</td>  <th>  Df Residuals:      </th>    <td>7029</td>   \n",
       "</tr>\n",
       "<tr>\n",
       "  <th>Time:</th>               <td>15:17:07</td>      <th>  Df Model:          </th>      <td>1</td>    \n",
       "</tr>\n",
       "</table>\n",
       "<table class=\"simpletable\">\n",
       "<caption>Mean Model</caption>\n",
       "<tr>\n",
       "   <td></td>     <th>coef</th>     <th>std err</th>      <th>t</th>       <th>P>|t|</th>     <th>95.0% Conf. Int.</th>   \n",
       "</tr>\n",
       "<tr>\n",
       "  <th>mu</th> <td>    0.0245</td> <td>1.149e-02</td> <td>    2.129</td> <td>3.324e-02</td> <td>[1.944e-03,4.700e-02]</td>\n",
       "</tr>\n",
       "</table>\n",
       "<table class=\"simpletable\">\n",
       "<caption>Volatility Model</caption>\n",
       "<tr>\n",
       "      <td></td>        <th>coef</th>     <th>std err</th>      <th>t</th>       <th>P>|t|</th>     <th>95.0% Conf. Int.</th>   \n",
       "</tr>\n",
       "<tr>\n",
       "  <th>omega</th>    <td>    0.7609</td> <td>4.158e-02</td> <td>   18.299</td> <td>8.453e-75</td>   <td>[  0.679,  0.842]</td>  \n",
       "</tr>\n",
       "<tr>\n",
       "  <th>alpha[1]</th> <td>    0.1567</td> <td>3.006e-02</td> <td>    5.213</td> <td>1.856e-07</td>  <td>[9.780e-02,  0.216]</td> \n",
       "</tr>\n",
       "<tr>\n",
       "  <th>alpha[2]</th> <td>    0.0606</td> <td>1.869e-02</td> <td>    3.241</td> <td>1.192e-03</td> <td>[2.393e-02,9.718e-02]</td>\n",
       "</tr>\n",
       "</table><br/><br/>Covariance estimator: robust"
      ],
      "text/latex": "\\begin{center}\n\\begin{tabular}{lclc}\n\\toprule\n\\textbf{Dep. Variable:} &      returns       & \\textbf{  R-squared:         } &     0.000   \\\\\n\\textbf{Mean Model:}    &   Constant Mean    & \\textbf{  Adj. R-squared:    } &     0.000   \\\\\n\\textbf{Vol Model:}     &        ARCH        & \\textbf{  Log-Likelihood:    } &   -9657.73  \\\\\n\\textbf{Distribution:}  &       Normal       & \\textbf{  AIC:               } &    19323.5  \\\\\n\\textbf{Method:}        & Maximum Likelihood & \\textbf{  BIC:               } &    19350.9  \\\\\n\\textbf{}               &                    & \\textbf{  No. Observations:  } &    7030     \\\\\n\\textbf{Date:}          &  Thu, Jul 03 2025  & \\textbf{  Df Residuals:      } &    7029     \\\\\n\\textbf{Time:}          &      15:17:07      & \\textbf{  Df Model:          } &     1       \\\\\n\\bottomrule\n\\end{tabular}\n\\begin{tabular}{lccccc}\n            & \\textbf{coef} & \\textbf{std err} & \\textbf{t} & \\textbf{P$> |$t$|$} & \\textbf{95.0\\% Conf. Int.}  \\\\\n\\midrule\n\\textbf{mu} &       0.0245  &    1.149e-02     &     2.129  &      3.324e-02       &   [1.944e-03,4.700e-02]     \\\\\n                  & \\textbf{coef} & \\textbf{std err} & \\textbf{t} & \\textbf{P$> |$t$|$} & \\textbf{95.0\\% Conf. Int.}  \\\\\n\\midrule\n\\textbf{omega}    &       0.7609  &    4.158e-02     &    18.299  &      8.453e-75       &     [  0.679,  0.842]       \\\\\n\\textbf{alpha[1]} &       0.1567  &    3.006e-02     &     5.213  &      1.856e-07       &    [9.780e-02,  0.216]      \\\\\n\\textbf{alpha[2]} &       0.0606  &    1.869e-02     &     3.241  &      1.192e-03       &   [2.393e-02,9.718e-02]     \\\\\n\\bottomrule\n\\end{tabular}\n%\\caption{Constant Mean - ARCH Model Results}\n\\end{center}\n\nCovariance estimator: robust"
     },
     "execution_count": 54,
     "metadata": {},
     "output_type": "execute_result"
    }
   ],
   "execution_count": 54
  },
  {
   "cell_type": "code",
   "metadata": {
    "ExecuteTime": {
     "end_time": "2025-07-03T13:17:07.425629Z",
     "start_time": "2025-07-03T13:17:07.231260Z"
    }
   },
   "source": [
    "model_arch_3 = arch_model(df.returns[1:], mean = \"Constant\", vol = \"ARCH\", p = 3)\n",
    "results_arch_3 = model_arch_3.fit(update_freq = 5)\n",
    "results_arch_3.summary()"
   ],
   "outputs": [
    {
     "name": "stdout",
     "output_type": "stream",
     "text": [
      "Iteration:      5,   Func. Count:     40,   Neg. LLF: 9791.145902457156\n",
      "Iteration:     10,   Func. Count:     73,   Neg. LLF: 9420.243307557066\n",
      "Optimization terminated successfully    (Exit mode 0)\n",
      "            Current function value: 9418.905248282605\n",
      "            Iterations: 13\n",
      "            Function evaluations: 91\n",
      "            Gradient evaluations: 13\n"
     ]
    },
    {
     "data": {
      "text/plain": [
       "<class 'statsmodels.iolib.summary.Summary'>\n",
       "\"\"\"\n",
       "                      Constant Mean - ARCH Model Results                      \n",
       "==============================================================================\n",
       "Dep. Variable:                returns   R-squared:                       0.000\n",
       "Mean Model:             Constant Mean   Adj. R-squared:                  0.000\n",
       "Vol Model:                       ARCH   Log-Likelihood:               -9418.91\n",
       "Distribution:                  Normal   AIC:                           18847.8\n",
       "Method:            Maximum Likelihood   BIC:                           18882.1\n",
       "                                        No. Observations:                 7030\n",
       "Date:                Thu, Jul 03 2025   Df Residuals:                     7029\n",
       "Time:                        15:17:07   Df Model:                            1\n",
       "                                 Mean Model                                 \n",
       "============================================================================\n",
       "                 coef    std err          t      P>|t|      95.0% Conf. Int.\n",
       "----------------------------------------------------------------------------\n",
       "mu             0.0258  1.115e-02      2.314  2.069e-02 [3.944e-03,4.767e-02]\n",
       "                              Volatility Model                              \n",
       "============================================================================\n",
       "                 coef    std err          t      P>|t|      95.0% Conf. Int.\n",
       "----------------------------------------------------------------------------\n",
       "omega          0.5884  2.858e-02     20.590  3.357e-94     [  0.532,  0.644]\n",
       "alpha[1]       0.1921  3.396e-02      5.656  1.548e-08     [  0.126,  0.259]\n",
       "alpha[2]       0.0519  1.503e-02      3.452  5.559e-04 [2.242e-02,8.132e-02]\n",
       "alpha[3]       0.1641  3.112e-02      5.272  1.346e-07     [  0.103,  0.225]\n",
       "============================================================================\n",
       "\n",
       "Covariance estimator: robust\n",
       "\"\"\""
      ],
      "text/html": [
       "<table class=\"simpletable\">\n",
       "<caption>Constant Mean - ARCH Model Results</caption>\n",
       "<tr>\n",
       "  <th>Dep. Variable:</th>       <td>returns</td>      <th>  R-squared:         </th>  <td>   0.000</td> \n",
       "</tr>\n",
       "<tr>\n",
       "  <th>Mean Model:</th>       <td>Constant Mean</td>   <th>  Adj. R-squared:    </th>  <td>   0.000</td> \n",
       "</tr>\n",
       "<tr>\n",
       "  <th>Vol Model:</th>            <td>ARCH</td>        <th>  Log-Likelihood:    </th> <td>  -9418.91</td>\n",
       "</tr>\n",
       "<tr>\n",
       "  <th>Distribution:</th>        <td>Normal</td>       <th>  AIC:               </th> <td>   18847.8</td>\n",
       "</tr>\n",
       "<tr>\n",
       "  <th>Method:</th>        <td>Maximum Likelihood</td> <th>  BIC:               </th> <td>   18882.1</td>\n",
       "</tr>\n",
       "<tr>\n",
       "  <th></th>                        <td></td>          <th>  No. Observations:  </th>    <td>7030</td>   \n",
       "</tr>\n",
       "<tr>\n",
       "  <th>Date:</th>           <td>Thu, Jul 03 2025</td>  <th>  Df Residuals:      </th>    <td>7029</td>   \n",
       "</tr>\n",
       "<tr>\n",
       "  <th>Time:</th>               <td>15:17:07</td>      <th>  Df Model:          </th>      <td>1</td>    \n",
       "</tr>\n",
       "</table>\n",
       "<table class=\"simpletable\">\n",
       "<caption>Mean Model</caption>\n",
       "<tr>\n",
       "   <td></td>     <th>coef</th>     <th>std err</th>      <th>t</th>       <th>P>|t|</th>     <th>95.0% Conf. Int.</th>   \n",
       "</tr>\n",
       "<tr>\n",
       "  <th>mu</th> <td>    0.0258</td> <td>1.115e-02</td> <td>    2.314</td> <td>2.069e-02</td> <td>[3.944e-03,4.767e-02]</td>\n",
       "</tr>\n",
       "</table>\n",
       "<table class=\"simpletable\">\n",
       "<caption>Volatility Model</caption>\n",
       "<tr>\n",
       "      <td></td>        <th>coef</th>     <th>std err</th>      <th>t</th>       <th>P>|t|</th>     <th>95.0% Conf. Int.</th>   \n",
       "</tr>\n",
       "<tr>\n",
       "  <th>omega</th>    <td>    0.5884</td> <td>2.858e-02</td> <td>   20.590</td> <td>3.357e-94</td>   <td>[  0.532,  0.644]</td>  \n",
       "</tr>\n",
       "<tr>\n",
       "  <th>alpha[1]</th> <td>    0.1921</td> <td>3.396e-02</td> <td>    5.656</td> <td>1.548e-08</td>   <td>[  0.126,  0.259]</td>  \n",
       "</tr>\n",
       "<tr>\n",
       "  <th>alpha[2]</th> <td>    0.0519</td> <td>1.503e-02</td> <td>    3.452</td> <td>5.559e-04</td> <td>[2.242e-02,8.132e-02]</td>\n",
       "</tr>\n",
       "<tr>\n",
       "  <th>alpha[3]</th> <td>    0.1641</td> <td>3.112e-02</td> <td>    5.272</td> <td>1.346e-07</td>   <td>[  0.103,  0.225]</td>  \n",
       "</tr>\n",
       "</table><br/><br/>Covariance estimator: robust"
      ],
      "text/latex": "\\begin{center}\n\\begin{tabular}{lclc}\n\\toprule\n\\textbf{Dep. Variable:} &      returns       & \\textbf{  R-squared:         } &     0.000   \\\\\n\\textbf{Mean Model:}    &   Constant Mean    & \\textbf{  Adj. R-squared:    } &     0.000   \\\\\n\\textbf{Vol Model:}     &        ARCH        & \\textbf{  Log-Likelihood:    } &   -9418.91  \\\\\n\\textbf{Distribution:}  &       Normal       & \\textbf{  AIC:               } &    18847.8  \\\\\n\\textbf{Method:}        & Maximum Likelihood & \\textbf{  BIC:               } &    18882.1  \\\\\n\\textbf{}               &                    & \\textbf{  No. Observations:  } &    7030     \\\\\n\\textbf{Date:}          &  Thu, Jul 03 2025  & \\textbf{  Df Residuals:      } &    7029     \\\\\n\\textbf{Time:}          &      15:17:07      & \\textbf{  Df Model:          } &     1       \\\\\n\\bottomrule\n\\end{tabular}\n\\begin{tabular}{lccccc}\n            & \\textbf{coef} & \\textbf{std err} & \\textbf{t} & \\textbf{P$> |$t$|$} & \\textbf{95.0\\% Conf. Int.}  \\\\\n\\midrule\n\\textbf{mu} &       0.0258  &    1.115e-02     &     2.314  &      2.069e-02       &   [3.944e-03,4.767e-02]     \\\\\n                  & \\textbf{coef} & \\textbf{std err} & \\textbf{t} & \\textbf{P$> |$t$|$} & \\textbf{95.0\\% Conf. Int.}  \\\\\n\\midrule\n\\textbf{omega}    &       0.5884  &    2.858e-02     &    20.590  &      3.357e-94       &     [  0.532,  0.644]       \\\\\n\\textbf{alpha[1]} &       0.1921  &    3.396e-02     &     5.656  &      1.548e-08       &     [  0.126,  0.259]       \\\\\n\\textbf{alpha[2]} &       0.0519  &    1.503e-02     &     3.452  &      5.559e-04       &   [2.242e-02,8.132e-02]     \\\\\n\\textbf{alpha[3]} &       0.1641  &    3.112e-02     &     5.272  &      1.346e-07       &     [  0.103,  0.225]       \\\\\n\\bottomrule\n\\end{tabular}\n%\\caption{Constant Mean - ARCH Model Results}\n\\end{center}\n\nCovariance estimator: robust"
     },
     "execution_count": 55,
     "metadata": {},
     "output_type": "execute_result"
    }
   ],
   "execution_count": 55
  },
  {
   "cell_type": "code",
   "metadata": {
    "ExecuteTime": {
     "end_time": "2025-07-03T13:17:08.416237Z",
     "start_time": "2025-07-03T13:17:07.556343Z"
    }
   },
   "source": [
    "model_arch_13 = arch_model(df.returns[1:], mean = \"Constant\", vol = \"ARCH\", p = 13)\n",
    "results_arch_13 = model_arch_13.fit(update_freq = 5)\n",
    "results_arch_13.summary()"
   ],
   "outputs": [
    {
     "name": "stdout",
     "output_type": "stream",
     "text": [
      "Iteration:      5,   Func. Count:     89,   Neg. LLF: 12410.78743964501\n",
      "Iteration:     10,   Func. Count:    176,   Neg. LLF: 8529.875812427981\n",
      "Iteration:     15,   Func. Count:    261,   Neg. LLF: 8516.495305014141\n",
      "Iteration:     20,   Func. Count:    345,   Neg. LLF: 8394.196603688342\n",
      "Iteration:     25,   Func. Count:    425,   Neg. LLF: 9112.315502294172\n",
      "Optimization terminated successfully    (Exit mode 0)\n",
      "            Current function value: 8393.49122744935\n",
      "            Iterations: 28\n",
      "            Function evaluations: 470\n",
      "            Gradient evaluations: 27\n"
     ]
    },
    {
     "data": {
      "text/plain": [
       "<class 'statsmodels.iolib.summary.Summary'>\n",
       "\"\"\"\n",
       "                      Constant Mean - ARCH Model Results                      \n",
       "==============================================================================\n",
       "Dep. Variable:                returns   R-squared:                       0.000\n",
       "Mean Model:             Constant Mean   Adj. R-squared:                  0.000\n",
       "Vol Model:                       ARCH   Log-Likelihood:               -8393.49\n",
       "Distribution:                  Normal   AIC:                           16817.0\n",
       "Method:            Maximum Likelihood   BIC:                           16919.9\n",
       "                                        No. Observations:                 7030\n",
       "Date:                Thu, Jul 03 2025   Df Residuals:                     7029\n",
       "Time:                        15:17:08   Df Model:                            1\n",
       "                                 Mean Model                                 \n",
       "============================================================================\n",
       "                 coef    std err          t      P>|t|      95.0% Conf. Int.\n",
       "----------------------------------------------------------------------------\n",
       "mu             0.0228  8.250e-03      2.767  5.658e-03 [6.658e-03,3.900e-02]\n",
       "                               Volatility Model                              \n",
       "=============================================================================\n",
       "                 coef    std err          t      P>|t|       95.0% Conf. Int.\n",
       "-----------------------------------------------------------------------------\n",
       "omega          0.1603  2.869e-02      5.586  2.327e-08      [  0.104,  0.216]\n",
       "alpha[1]       0.0725  2.228e-02      3.254  1.138e-03    [2.884e-02,  0.116]\n",
       "alpha[2]   6.3849e-12  1.353e-02  4.718e-10      1.000 [-2.653e-02,2.653e-02]\n",
       "alpha[3]       0.0185  1.666e-02      1.108      0.268 [-1.419e-02,5.110e-02]\n",
       "alpha[4]       0.0216  1.719e-02      1.254      0.210 [-1.213e-02,5.527e-02]\n",
       "alpha[5]   6.0917e-11  2.537e-02  2.401e-09      1.000 [-4.972e-02,4.972e-02]\n",
       "alpha[6]       0.1404  2.693e-02      5.214  1.843e-07    [8.765e-02,  0.193]\n",
       "alpha[7]       0.5673  8.066e-02      7.033  2.017e-12      [  0.409,  0.725]\n",
       "alpha[8]       0.1042  2.082e-02      5.004  5.605e-07    [6.337e-02,  0.145]\n",
       "alpha[9]   1.0314e-10  2.235e-02  4.615e-09      1.000 [-4.380e-02,4.380e-02]\n",
       "alpha[10]  1.1301e-11  1.474e-02  7.665e-10      1.000 [-2.890e-02,2.890e-02]\n",
       "alpha[11]  3.4825e-03  1.646e-02      0.212      0.832 [-2.878e-02,3.575e-02]\n",
       "alpha[12]  4.5732e-11  1.481e-02  3.087e-09      1.000 [-2.904e-02,2.904e-02]\n",
       "alpha[13]      0.0721  3.457e-02      2.084  3.713e-02    [4.299e-03,  0.140]\n",
       "=============================================================================\n",
       "\n",
       "Covariance estimator: robust\n",
       "\"\"\""
      ],
      "text/html": [
       "<table class=\"simpletable\">\n",
       "<caption>Constant Mean - ARCH Model Results</caption>\n",
       "<tr>\n",
       "  <th>Dep. Variable:</th>       <td>returns</td>      <th>  R-squared:         </th>  <td>   0.000</td> \n",
       "</tr>\n",
       "<tr>\n",
       "  <th>Mean Model:</th>       <td>Constant Mean</td>   <th>  Adj. R-squared:    </th>  <td>   0.000</td> \n",
       "</tr>\n",
       "<tr>\n",
       "  <th>Vol Model:</th>            <td>ARCH</td>        <th>  Log-Likelihood:    </th> <td>  -8393.49</td>\n",
       "</tr>\n",
       "<tr>\n",
       "  <th>Distribution:</th>        <td>Normal</td>       <th>  AIC:               </th> <td>   16817.0</td>\n",
       "</tr>\n",
       "<tr>\n",
       "  <th>Method:</th>        <td>Maximum Likelihood</td> <th>  BIC:               </th> <td>   16919.9</td>\n",
       "</tr>\n",
       "<tr>\n",
       "  <th></th>                        <td></td>          <th>  No. Observations:  </th>    <td>7030</td>   \n",
       "</tr>\n",
       "<tr>\n",
       "  <th>Date:</th>           <td>Thu, Jul 03 2025</td>  <th>  Df Residuals:      </th>    <td>7029</td>   \n",
       "</tr>\n",
       "<tr>\n",
       "  <th>Time:</th>               <td>15:17:08</td>      <th>  Df Model:          </th>      <td>1</td>    \n",
       "</tr>\n",
       "</table>\n",
       "<table class=\"simpletable\">\n",
       "<caption>Mean Model</caption>\n",
       "<tr>\n",
       "   <td></td>     <th>coef</th>     <th>std err</th>      <th>t</th>       <th>P>|t|</th>     <th>95.0% Conf. Int.</th>   \n",
       "</tr>\n",
       "<tr>\n",
       "  <th>mu</th> <td>    0.0228</td> <td>8.250e-03</td> <td>    2.767</td> <td>5.658e-03</td> <td>[6.658e-03,3.900e-02]</td>\n",
       "</tr>\n",
       "</table>\n",
       "<table class=\"simpletable\">\n",
       "<caption>Volatility Model</caption>\n",
       "<tr>\n",
       "      <td></td>         <th>coef</th>     <th>std err</th>      <th>t</th>       <th>P>|t|</th>      <th>95.0% Conf. Int.</th>   \n",
       "</tr>\n",
       "<tr>\n",
       "  <th>omega</th>     <td>    0.1603</td> <td>2.869e-02</td> <td>    5.586</td> <td>2.327e-08</td>    <td>[  0.104,  0.216]</td>  \n",
       "</tr>\n",
       "<tr>\n",
       "  <th>alpha[1]</th>  <td>    0.0725</td> <td>2.228e-02</td> <td>    3.254</td> <td>1.138e-03</td>   <td>[2.884e-02,  0.116]</td> \n",
       "</tr>\n",
       "<tr>\n",
       "  <th>alpha[2]</th>  <td>6.3849e-12</td> <td>1.353e-02</td> <td>4.718e-10</td> <td>    1.000</td> <td>[-2.653e-02,2.653e-02]</td>\n",
       "</tr>\n",
       "<tr>\n",
       "  <th>alpha[3]</th>  <td>    0.0185</td> <td>1.666e-02</td> <td>    1.108</td> <td>    0.268</td> <td>[-1.419e-02,5.110e-02]</td>\n",
       "</tr>\n",
       "<tr>\n",
       "  <th>alpha[4]</th>  <td>    0.0216</td> <td>1.719e-02</td> <td>    1.254</td> <td>    0.210</td> <td>[-1.213e-02,5.527e-02]</td>\n",
       "</tr>\n",
       "<tr>\n",
       "  <th>alpha[5]</th>  <td>6.0917e-11</td> <td>2.537e-02</td> <td>2.401e-09</td> <td>    1.000</td> <td>[-4.972e-02,4.972e-02]</td>\n",
       "</tr>\n",
       "<tr>\n",
       "  <th>alpha[6]</th>  <td>    0.1404</td> <td>2.693e-02</td> <td>    5.214</td> <td>1.843e-07</td>   <td>[8.765e-02,  0.193]</td> \n",
       "</tr>\n",
       "<tr>\n",
       "  <th>alpha[7]</th>  <td>    0.5673</td> <td>8.066e-02</td> <td>    7.033</td> <td>2.017e-12</td>    <td>[  0.409,  0.725]</td>  \n",
       "</tr>\n",
       "<tr>\n",
       "  <th>alpha[8]</th>  <td>    0.1042</td> <td>2.082e-02</td> <td>    5.004</td> <td>5.605e-07</td>   <td>[6.337e-02,  0.145]</td> \n",
       "</tr>\n",
       "<tr>\n",
       "  <th>alpha[9]</th>  <td>1.0314e-10</td> <td>2.235e-02</td> <td>4.615e-09</td> <td>    1.000</td> <td>[-4.380e-02,4.380e-02]</td>\n",
       "</tr>\n",
       "<tr>\n",
       "  <th>alpha[10]</th> <td>1.1301e-11</td> <td>1.474e-02</td> <td>7.665e-10</td> <td>    1.000</td> <td>[-2.890e-02,2.890e-02]</td>\n",
       "</tr>\n",
       "<tr>\n",
       "  <th>alpha[11]</th> <td>3.4825e-03</td> <td>1.646e-02</td> <td>    0.212</td> <td>    0.832</td> <td>[-2.878e-02,3.575e-02]</td>\n",
       "</tr>\n",
       "<tr>\n",
       "  <th>alpha[12]</th> <td>4.5732e-11</td> <td>1.481e-02</td> <td>3.087e-09</td> <td>    1.000</td> <td>[-2.904e-02,2.904e-02]</td>\n",
       "</tr>\n",
       "<tr>\n",
       "  <th>alpha[13]</th> <td>    0.0721</td> <td>3.457e-02</td> <td>    2.084</td> <td>3.713e-02</td>   <td>[4.299e-03,  0.140]</td> \n",
       "</tr>\n",
       "</table><br/><br/>Covariance estimator: robust"
      ],
      "text/latex": "\\begin{center}\n\\begin{tabular}{lclc}\n\\toprule\n\\textbf{Dep. Variable:} &      returns       & \\textbf{  R-squared:         } &     0.000   \\\\\n\\textbf{Mean Model:}    &   Constant Mean    & \\textbf{  Adj. R-squared:    } &     0.000   \\\\\n\\textbf{Vol Model:}     &        ARCH        & \\textbf{  Log-Likelihood:    } &   -8393.49  \\\\\n\\textbf{Distribution:}  &       Normal       & \\textbf{  AIC:               } &    16817.0  \\\\\n\\textbf{Method:}        & Maximum Likelihood & \\textbf{  BIC:               } &    16919.9  \\\\\n\\textbf{}               &                    & \\textbf{  No. Observations:  } &    7030     \\\\\n\\textbf{Date:}          &  Thu, Jul 03 2025  & \\textbf{  Df Residuals:      } &    7029     \\\\\n\\textbf{Time:}          &      15:17:08      & \\textbf{  Df Model:          } &     1       \\\\\n\\bottomrule\n\\end{tabular}\n\\begin{tabular}{lccccc}\n            & \\textbf{coef} & \\textbf{std err} & \\textbf{t} & \\textbf{P$> |$t$|$} & \\textbf{95.0\\% Conf. Int.}  \\\\\n\\midrule\n\\textbf{mu} &       0.0228  &    8.250e-03     &     2.767  &      5.658e-03       &   [6.658e-03,3.900e-02]     \\\\\n                   & \\textbf{coef} & \\textbf{std err} & \\textbf{t} & \\textbf{P$> |$t$|$} & \\textbf{95.0\\% Conf. Int.}  \\\\\n\\midrule\n\\textbf{omega}     &       0.1603  &    2.869e-02     &     5.586  &      2.327e-08       &     [  0.104,  0.216]       \\\\\n\\textbf{alpha[1]}  &       0.0725  &    2.228e-02     &     3.254  &      1.138e-03       &    [2.884e-02,  0.116]      \\\\\n\\textbf{alpha[2]}  &   6.3849e-12  &    1.353e-02     & 4.718e-10  &          1.000       &   [-2.653e-02,2.653e-02]    \\\\\n\\textbf{alpha[3]}  &       0.0185  &    1.666e-02     &     1.108  &          0.268       &   [-1.419e-02,5.110e-02]    \\\\\n\\textbf{alpha[4]}  &       0.0216  &    1.719e-02     &     1.254  &          0.210       &   [-1.213e-02,5.527e-02]    \\\\\n\\textbf{alpha[5]}  &   6.0917e-11  &    2.537e-02     & 2.401e-09  &          1.000       &   [-4.972e-02,4.972e-02]    \\\\\n\\textbf{alpha[6]}  &       0.1404  &    2.693e-02     &     5.214  &      1.843e-07       &    [8.765e-02,  0.193]      \\\\\n\\textbf{alpha[7]}  &       0.5673  &    8.066e-02     &     7.033  &      2.017e-12       &     [  0.409,  0.725]       \\\\\n\\textbf{alpha[8]}  &       0.1042  &    2.082e-02     &     5.004  &      5.605e-07       &    [6.337e-02,  0.145]      \\\\\n\\textbf{alpha[9]}  &   1.0314e-10  &    2.235e-02     & 4.615e-09  &          1.000       &   [-4.380e-02,4.380e-02]    \\\\\n\\textbf{alpha[10]} &   1.1301e-11  &    1.474e-02     & 7.665e-10  &          1.000       &   [-2.890e-02,2.890e-02]    \\\\\n\\textbf{alpha[11]} &   3.4825e-03  &    1.646e-02     &     0.212  &          0.832       &   [-2.878e-02,3.575e-02]    \\\\\n\\textbf{alpha[12]} &   4.5732e-11  &    1.481e-02     & 3.087e-09  &          1.000       &   [-2.904e-02,2.904e-02]    \\\\\n\\textbf{alpha[13]} &       0.0721  &    3.457e-02     &     2.084  &      3.713e-02       &    [4.299e-03,  0.140]      \\\\\n\\bottomrule\n\\end{tabular}\n%\\caption{Constant Mean - ARCH Model Results}\n\\end{center}\n\nCovariance estimator: robust"
     },
     "execution_count": 56,
     "metadata": {},
     "output_type": "execute_result"
    }
   ],
   "execution_count": 56
  }
 ],
 "metadata": {
  "kernelspec": {
   "display_name": "Python 3",
   "language": "python",
   "name": "python3"
  },
  "language_info": {
   "codemirror_mode": {
    "name": "ipython",
    "version": 3
   },
   "file_extension": ".py",
   "mimetype": "text/x-python",
   "name": "python",
   "nbconvert_exporter": "python",
   "pygments_lexer": "ipython3",
   "version": "3.6.7"
  }
 },
 "nbformat": 4,
 "nbformat_minor": 2
}
